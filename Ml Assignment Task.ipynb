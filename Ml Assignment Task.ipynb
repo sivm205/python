{
  "nbformat": 4,
  "nbformat_minor": 0,
  "metadata": {
    "colab": {
      "provenance": [],
      "authorship_tag": "ABX9TyOUCwHG8dnxut42l9sH/B0U",
      "include_colab_link": true
    },
    "kernelspec": {
      "name": "python3",
      "display_name": "Python 3"
    },
    "language_info": {
      "name": "python"
    }
  },
  "cells": [
    {
      "cell_type": "markdown",
      "metadata": {
        "id": "view-in-github",
        "colab_type": "text"
      },
      "source": [
        "<a href=\"https://colab.research.google.com/github/sivm205/python/blob/master/Ml%20Assignment%20Task.ipynb\" target=\"_parent\"><img src=\"https://colab.research.google.com/assets/colab-badge.svg\" alt=\"Open In Colab\"/></a>"
      ]
    },
    {
      "cell_type": "code",
      "execution_count": 4,
      "metadata": {
        "colab": {
          "base_uri": "https://localhost:8080/"
        },
        "id": "iokfiF3pESZC",
        "outputId": "895657cb-94f6-4ed3-f590-41a352425eb9"
      },
      "outputs": [
        {
          "output_type": "stream",
          "name": "stdout",
          "text": [
            "True\n",
            "True\n",
            "False\n",
            "True\n"
          ]
        }
      ],
      "source": [
        "def can_form_weight(W, weights):\n",
        "    if W == 0:\n",
        "        return True\n",
        "    if not weights:\n",
        "        return False\n",
        "    return recursive_check_weight(W, weights, 0)\n",
        "\n",
        "\n",
        "def recursive_check_weight(W, weights, start_index):\n",
        "    if W == 0:\n",
        "        return True\n",
        "    \n",
        "    if start_index >= len(weights):\n",
        "        return False\n",
        "    if recursive_check_weight(W - weights[start_index], weights, start_index + 1):\n",
        "        return True\n",
        "    if recursive_check_weight(W, weights, start_index + 1):\n",
        "        return True\n",
        "    \n",
        "    return False\n",
        "\n",
        "\n",
        "W = 14\n",
        "weights = [4, 3, 10, 6, 3]\n",
        "print(can_form_weight(W, weights))  \n",
        "\n",
        "weights = [1, 4, 0, 0, 10]\n",
        "print(can_form_weight(W, weights)) \n",
        "\n",
        "weights = [12, 0, 0, 0, 1]\n",
        "print(can_form_weight(W, weights)) \n",
        "\n",
        "W = 8\n",
        "weights = [4, 7, 3, 1]\n",
        "print(can_form_weight(W, weights))  \n"
      ]
    },
    {
      "cell_type": "markdown",
      "source": [
        "How do you handle missing or corrupted data in a dataset?\n",
        "**bold text**\n",
        "\n",
        "I usually handle missing or corrupted data by dropping it if the percentage of missing values is greater than 50%. If the percentage of missing values is less than 50%, I can use other statistical methods such as imputation using KNN, forward fill, or backward fill. However, in practice, I usually drop the data because most of the time I get very messy data or data that is not useful for my analytic purposes"
      ],
      "metadata": {
        "id": "Bv7JOtSSIlld"
      }
    },
    {
      "cell_type": "markdown",
      "source": [
        "\n",
        "2.What Are the Three Stages of Building a Model in Machine Learning? \n",
        "\n",
        "\n",
        "### Data preparation\n",
        "\n",
        "The first step in building a machine learning model is to collect the data. Once the data has been gathered, it has to be cleaned and prepared for Training. This includes removing any errors or missing values, and transforming the data into a format that can be used by the machine learning algorithms.\n",
        "\n",
        "### Modeling\n",
        "\n",
        "The next step is to choose a algorithm and train the model on the data. There are many different algorithms available, each with its own strengths and weaknesses. The choice of algorithm will depend on the type of data that is available, the desired accuracy of the model, and the time and resources that are available.\n",
        "\n",
        "Once the algorithm has been chosen, the model is trained on the data. This involves feeding the data into the algorithm and allowing it to learn the relationships between the features and the target variable. The training process may take a few minutes or several hours, depending on the amount of data and the complexity of the algorithm.\n",
        "\n",
        "### Deployment\n",
        "\n",
        "Once the model has been trained, it can be deployed to production and used to make predictions. This involves saving the model in a format that can be used by a software application. The model can then be used to make predictions on new data, such as customer transactions or sensor readings.\n",
        "\n",
        "The three stages of building a machine learning model are: data preparation, modeling, and deployment. Each stage is important, and the success of the model will depend on the quality of the data, the choice of algorithm, and the accuracy of the predictions."
      ],
      "metadata": {
        "id": "GvRz7mxiI8MZ"
      }
    }
  ]
}